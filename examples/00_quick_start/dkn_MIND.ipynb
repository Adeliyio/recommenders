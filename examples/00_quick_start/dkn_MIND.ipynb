{
 "cells": [
  {
   "attachments": {},
   "cell_type": "markdown",
   "metadata": {},
   "source": [
    "<i>Copyright (c) Microsoft Corporation. All rights reserved.</i>\n",
    "\n",
    "<i>Licensed under the MIT License.</i>"
   ]
  },
  {
   "attachments": {},
   "cell_type": "markdown",
   "metadata": {},
   "source": [
    "# DKN : Deep Knowledge-Aware Network for News Recommendation\n",
    "\n",
    "DKN \\[1\\] is a deep learning model which incorporates information from knowledge graph for better news recommendation. Specifically, DKN uses TransX \\[2\\] method for knowledge graph representation learning, then applies a CNN framework, named KCNN, to combine entity embedding with word embedding and generate a final embedding vector for a news article. CTR prediction is made via an attention-based neural scorer. \n",
    "\n",
    "## Properties of DKN:\n",
    "\n",
    "- DKN is a content-based deep model for CTR prediction rather than traditional ID-based collaborative filtering. \n",
    "- It makes use of knowledge entities and common sense in news content via joint learning from semantic-level and knowledge-level representations of news articles.\n",
    "- DKN uses an attention module to dynamically calculate a user's aggregated historical representaition.\n",
    "\n",
    "\n",
    "## Data format:\n",
    "\n",
    "### DKN takes several files as input as follows:\n",
    "\n",
    "- **training / validation / test files**: each line in these files represents one instance. Impressionid is used to evaluate performance within an impression session, so it is only used when evaluating, you can set it to 0 for training data. The format is : <br> \n",
    "`[label] [userid] [CandidateNews]%[impressionid] `<br> \n",
    "e.g., `1 train_U1 N1%0` <br> \n",
    "\n",
    "- **user history file**: each line in this file represents a users' click history. You need to set `history_size` parameter in the config file, which is the max number of user's click history we use. We will automatically keep the last `history_size` number of user click history, if user's click history is more than `history_size`, and we will automatically pad with 0 if user's click history is less than `history_size`. the format is : <br> \n",
    "`[Userid] [newsid1,newsid2...]`<br>\n",
    "e.g., `train_U1 N1,N2` <br> \n",
    "\n",
    "- **document feature file**: It contains the word and entity features for news articles. News articles are represented by aligned title words and title entities. To take a quick example, a news title may be: <i>\"Trump to deliver State of the Union address next week\"</i>, then the title words value may be `CandidateNews:34,45,334,23,12,987,3456,111,456,432` and the title entitie value may be: `entity:45,0,0,0,0,0,0,0,0,0`. Only the first value of entity vector is non-zero due to the word \"Trump\". The title value and entity value is hashed from 1 to `n` (where `n` is the number of distinct words or entities). Each feature length should be fixed at k (`doc_size` parameter), if the number of words in document is more than k, you should truncate the document to k words, and if the number of words in document is less than k, you should pad 0 to the end. \n",
    "the format is like: <br> \n",
    "`[Newsid] [w1,w2,w3...wk] [e1,e2,e3...ek]`\n",
    "\n",
    "- **word embedding/entity embedding/ context embedding files**: These are `*.npy` files of pretrained embeddings. After loading, each file is a `[n+1,k]` two-dimensional matrix, n is the number of words(or entities) of their hash dictionary, k is dimension of the embedding, note that we keep embedding 0 for zero padding. \n",
    "\n",
    "In this experiment, we used GloVe\\[4\\] vectors to initialize the word embedding. We trained entity embedding using TransE\\[2\\] on knowledge graph and context embedding is the average of the entity's neighbors in the knowledge graph.<br>\n",
    "\n",
    "## MIND dataset\n",
    "\n",
    "MIND dataset\\[3\\] is a large-scale English news dataset. It was collected from anonymized behavior logs of Microsoft News website. MIND contains 1,000,000 users, 161,013 news articles and 15,777,377 impression logs. Every news article contains rich textual content including title, abstract, body, category and entities. Each impression log contains the click events, non-clicked events and historical news click behaviors of this user before this impression.\n",
    "\n",
    "In this notebook we are going to use a subset of MIND dataset, **MIND demo**. MIND demo contains 500 users, 9,432 news articles  and 6,134 impression logs. \n",
    "\n",
    "For this quick start notebook, we are providing directly all the necessary word embeddings, entity embeddings and context embedding files."
   ]
  },
  {
   "attachments": {},
   "cell_type": "markdown",
   "metadata": {},
   "source": [
    "## Global settings and imports"
   ]
  },
  {
   "cell_type": "code",
   "execution_count": 1,
   "metadata": {},
   "outputs": [
    {
     "name": "stdout",
     "output_type": "stream",
     "text": [
      "[PhysicalDevice(name='/physical_device:GPU:0', device_type='GPU')]\n"
     ]
    }
   ],
   "source": [
    "import os\n",
    "# os.environ[\"CUDA_VISIBLE_DEVICES\"] = \"-1\"\n",
    "import tensorflow as tf\n",
    "# # print(os.environ[\"CUDA_HOME\"])\n",
    "# \"/anaconda/envs/recommenders/lib/python3.9/site-packages\"\n",
    "# os.environ[\"CUDA_ROOT\"] = \"/anaconda/pkgs/cudatoolkit-11.2.2-hbe64b41_10\"\n",
    "\n",
    "# os.environ[\"TF_FORCE_GPU_ALLOW_GROWTH\"]=\"true\"\n",
    "\n",
    "\n",
    "\n",
    "print(tf.compat.v1.config.list_physical_devices('GPU'))\n",
    "\n",
    "\n",
    "# Instalado nvidia-driver-495 with sudo apt install nvidia-495"
   ]
  },
  {
   "cell_type": "code",
   "execution_count": 2,
   "metadata": {
    "pycharm": {
     "is_executing": false
    }
   },
   "outputs": [
    {
     "name": "stdout",
     "output_type": "stream",
     "text": [
      "System version: 3.9.16 (main, May 15 2023, 23:46:34) \n",
      "[GCC 11.2.0]\n",
      "Tensorflow version: 2.7.4\n"
     ]
    }
   ],
   "source": [
    "# import warnings\n",
    "# warnings.filterwarnings(\"ignore\")\n",
    "\n",
    "import sys\n",
    "import os\n",
    "from tempfile import TemporaryDirectory\n",
    "import scrapbook as sb\n",
    "import tensorflow as tf\n",
    "# tf.get_logger().setLevel(\"ERROR\") # only show error messages\n",
    "# tf.compat.v1.logging.set_verbosity(tf.compat.v1.logging.ERROR)\n",
    "\n",
    "from recommenders.models.deeprec.deeprec_utils import download_deeprec_resources, prepare_hparams\n",
    "from recommenders.models.deeprec.models.dkn import DKN\n",
    "from recommenders.models.deeprec.io.dkn_iterator import DKNTextIterator\n",
    "\n",
    "print(f\"System version: {sys.version}\")\n",
    "print(f\"Tensorflow version: {tf.__version__}\")"
   ]
  },
  {
   "attachments": {},
   "cell_type": "markdown",
   "metadata": {},
   "source": [
    "## Download and load data"
   ]
  },
  {
   "cell_type": "code",
   "execution_count": 3,
   "metadata": {
    "pycharm": {
     "is_executing": false
    }
   },
   "outputs": [
    {
     "name": "stderr",
     "output_type": "stream",
     "text": [
      "100%|██████████| 11.3k/11.3k [00:01<00:00, 10.1kKB/s]\n"
     ]
    }
   ],
   "source": [
    "tmpdir = TemporaryDirectory()\n",
    "data_path = os.path.join(tmpdir.name, \"mind-demo-dkn\")\n",
    "\n",
    "yaml_file = os.path.join(data_path, r'dkn.yaml')\n",
    "train_file = os.path.join(data_path, r'train_mind_demo.txt')\n",
    "valid_file = os.path.join(data_path, r'valid_mind_demo.txt')\n",
    "test_file = os.path.join(data_path, r'test_mind_demo.txt')\n",
    "news_feature_file = os.path.join(data_path, r'doc_feature.txt')\n",
    "user_history_file = os.path.join(data_path, r'user_history.txt')\n",
    "wordEmb_file = os.path.join(data_path, r'word_embeddings_100.npy')\n",
    "entityEmb_file = os.path.join(data_path, r'TransE_entity2vec_100.npy')\n",
    "contextEmb_file = os.path.join(data_path, r'TransE_context2vec_100.npy')\n",
    "if not os.path.exists(yaml_file):\n",
    "    download_deeprec_resources(r'https://recodatasets.z20.web.core.windows.net/deeprec/', tmpdir.name, 'mind-demo-dkn.zip')\n",
    "    "
   ]
  },
  {
   "attachments": {},
   "cell_type": "markdown",
   "metadata": {},
   "source": [
    "## Create hyper-parameters"
   ]
  },
  {
   "cell_type": "code",
   "execution_count": 4,
   "metadata": {
    "pycharm": {
     "is_executing": false
    },
    "tags": [
     "parameters"
    ]
   },
   "outputs": [],
   "source": [
    "epochs = 10\n",
    "history_size = 50\n",
    "batch_size = 100"
   ]
  },
  {
   "cell_type": "code",
   "execution_count": 5,
   "metadata": {
    "pycharm": {
     "is_executing": false
    }
   },
   "outputs": [
    {
     "name": "stdout",
     "output_type": "stream",
     "text": [
      "HParams object with values {'use_entity': True, 'use_context': True, 'cross_activation': 'identity', 'user_dropout': False, 'dropout': [0.0], 'attention_dropout': 0.0, 'load_saved_model': False, 'fast_CIN_d': 0, 'use_Linear_part': False, 'use_FM_part': False, 'use_CIN_part': False, 'use_DNN_part': False, 'init_method': 'uniform', 'init_value': 0.1, 'embed_l2': 1e-06, 'embed_l1': 0.0, 'layer_l2': 1e-06, 'layer_l1': 0.0, 'cross_l2': 0.0, 'cross_l1': 0.0, 'reg_kg': 0.0, 'learning_rate': 0.0005, 'lr_rs': 1, 'lr_kg': 0.5, 'kg_training_interval': 5, 'max_grad_norm': 2, 'is_clip_norm': 0, 'dtype': 32, 'optimizer': 'adam', 'epochs': 10, 'batch_size': 100, 'enable_BN': True, 'show_step': 10000, 'save_model': False, 'save_epoch': 2, 'write_tfevents': False, 'train_num_ngs': 4, 'need_sample': True, 'embedding_dropout': 0.0, 'EARLY_STOP': 100, 'min_seq_length': 1, 'slots': 5, 'cell': 'SUM', 'doc_size': 10, 'history_size': 50, 'word_size': 12600, 'entity_size': 3987, 'data_format': 'dkn', 'metrics': ['auc'], 'pairwise_metrics': ['group_auc', 'mean_mrr', 'ndcg@5;10'], 'method': 'classification', 'activation': ['sigmoid'], 'attention_activation': 'relu', 'attention_layer_sizes': 100, 'dim': 100, 'entity_dim': 100, 'transform': True, 'filter_sizes': [1, 2, 3], 'layer_sizes': [300], 'model_type': 'dkn', 'num_filters': 100, 'loss': 'log_loss', 'news_feature_file': '/tmp/tmpgbz8khb4/mind-demo-dkn/doc_feature.txt', 'user_history_file': '/tmp/tmpgbz8khb4/mind-demo-dkn/user_history.txt', 'wordEmb_file': '/tmp/tmpgbz8khb4/mind-demo-dkn/word_embeddings_100.npy', 'entityEmb_file': '/tmp/tmpgbz8khb4/mind-demo-dkn/TransE_entity2vec_100.npy', 'contextEmb_file': '/tmp/tmpgbz8khb4/mind-demo-dkn/TransE_context2vec_100.npy'}\n"
     ]
    }
   ],
   "source": [
    "hparams = prepare_hparams(yaml_file,\n",
    "                          news_feature_file = news_feature_file,\n",
    "                          user_history_file = user_history_file,\n",
    "                          wordEmb_file=wordEmb_file,\n",
    "                          entityEmb_file=entityEmb_file,\n",
    "                          contextEmb_file=contextEmb_file,\n",
    "                          epochs=epochs,\n",
    "                          history_size=history_size,\n",
    "                          batch_size=batch_size)\n",
    "print(hparams)"
   ]
  },
  {
   "attachments": {},
   "cell_type": "markdown",
   "metadata": {},
   "source": [
    "## Train the DKN model"
   ]
  },
  {
   "cell_type": "code",
   "execution_count": 6,
   "metadata": {
    "pycharm": {
     "is_executing": false
    }
   },
   "outputs": [
    {
     "name": "stdout",
     "output_type": "stream",
     "text": [
      "WARNING:tensorflow:From /anaconda/envs/recommenders/lib/python3.9/site-packages/keras/layers/normalization/batch_normalization.py:532: _colocate_with (from tensorflow.python.framework.ops) is deprecated and will be removed in a future version.\n",
      "Instructions for updating:\n",
      "Colocations handled automatically by placer.\n"
     ]
    },
    {
     "name": "stderr",
     "output_type": "stream",
     "text": [
      "/home/hoaphumanoid/notebooks/repos/recommenders/recommenders/models/deeprec/models/dkn.py:305: UserWarning: `tf.layers.batch_normalization` is deprecated and will be removed in a future version. Please use `tf.keras.layers.BatchNormalization` instead. In particular, `tf.control_dependencies(tf.GraphKeys.UPDATE_OPS)` should not be used (consult the `tf.keras.layers.BatchNormalization` documentation).\n",
      "  curr_attention_layer = tf.compat.v1.layers.batch_normalization(\n",
      "/anaconda/envs/recommenders/lib/python3.9/site-packages/keras/legacy_tf_layers/normalization.py:455: UserWarning: `layer.apply` is deprecated and will be removed in a future version. Please use `layer.__call__` method instead.\n",
      "  return layer.apply(inputs, training=training)\n",
      "/home/hoaphumanoid/notebooks/repos/recommenders/recommenders/models/deeprec/models/dkn.py:193: UserWarning: `tf.layers.batch_normalization` is deprecated and will be removed in a future version. Please use `tf.keras.layers.BatchNormalization` instead. In particular, `tf.control_dependencies(tf.GraphKeys.UPDATE_OPS)` should not be used (consult the `tf.keras.layers.BatchNormalization` documentation).\n",
      "  curr_hidden_nn_layer = tf.compat.v1.layers.batch_normalization(\n"
     ]
    },
    {
     "name": "stderr",
     "output_type": "stream",
     "text": [
      "2023-07-07 14:45:12.788205: I tensorflow/core/platform/cpu_feature_guard.cc:151] This TensorFlow binary is optimized with oneAPI Deep Neural Network Library (oneDNN) to use the following CPU instructions in performance-critical operations:  AVX2 FMA\n",
      "To enable them in other operations, rebuild TensorFlow with the appropriate compiler flags.\n",
      "2023-07-07 14:45:13.862046: I tensorflow/core/common_runtime/gpu/gpu_device.cc:1525] Created device /job:localhost/replica:0/task:0/device:GPU:0 with 14554 MB memory:  -> device: 0, name: Tesla V100-PCIE-16GB, pci bus id: 0001:00:00.0, compute capability: 7.0\n"
     ]
    }
   ],
   "source": [
    "model = DKN(hparams, DKNTextIterator)"
   ]
  },
  {
   "cell_type": "code",
   "execution_count": 8,
   "metadata": {
    "pycharm": {
     "is_executing": false
    }
   },
   "outputs": [
    {
     "name": "stderr",
     "output_type": "stream",
     "text": [
      "2023-07-07 14:45:28.856688: E tensorflow/stream_executor/cuda/cuda_dnn.cc:371] Could not create cudnn handle: CUDNN_STATUS_NOT_INITIALIZED\n",
      "2023-07-07 14:45:28.856764: E tensorflow/stream_executor/cuda/cuda_dnn.cc:379] Possibly insufficient driver version: 470.199.2\n",
      "2023-07-07 14:45:28.856787: W tensorflow/core/framework/op_kernel.cc:1745] OP_REQUIRES failed at conv_ops.cc:1130 : UNKNOWN: Failed to get convolution algorithm. This is probably because cuDNN failed to initialize, so try looking to see if a warning log message was printed above.\n",
      "2023-07-07 14:45:28.857009: E tensorflow/stream_executor/cuda/cuda_dnn.cc:371] Could not create cudnn handle: CUDNN_STATUS_NOT_INITIALIZED\n",
      "2023-07-07 14:45:28.857053: E tensorflow/stream_executor/cuda/cuda_dnn.cc:379] Possibly insufficient driver version: 470.199.2\n",
      "2023-07-07 14:45:28.857070: W tensorflow/core/framework/op_kernel.cc:1745] OP_REQUIRES failed at conv_ops.cc:1130 : UNKNOWN: Failed to get convolution algorithm. This is probably because cuDNN failed to initialize, so try looking to see if a warning log message was printed above.\n",
      "2023-07-07 14:45:28.857126: E tensorflow/stream_executor/cuda/cuda_dnn.cc:371] Could not create cudnn handle: CUDNN_STATUS_NOT_INITIALIZED\n",
      "2023-07-07 14:45:28.857164: E tensorflow/stream_executor/cuda/cuda_dnn.cc:379] Possibly insufficient driver version: 470.199.2\n",
      "2023-07-07 14:45:28.857182: W tensorflow/core/framework/op_kernel.cc:1745] OP_REQUIRES failed at conv_ops.cc:1130 : UNKNOWN: Failed to get convolution algorithm. This is probably because cuDNN failed to initialize, so try looking to see if a warning log message was printed above.\n",
      "2023-07-07 14:45:28.857237: E tensorflow/stream_executor/cuda/cuda_dnn.cc:371] Could not create cudnn handle: CUDNN_STATUS_NOT_INITIALIZED\n",
      "2023-07-07 14:45:28.857275: E tensorflow/stream_executor/cuda/cuda_dnn.cc:379] Possibly insufficient driver version: 470.199.2\n",
      "2023-07-07 14:45:28.857292: W tensorflow/core/framework/op_kernel.cc:1745] OP_REQUIRES failed at conv_ops.cc:1130 : UNKNOWN: Failed to get convolution algorithm. This is probably because cuDNN failed to initialize, so try looking to see if a warning log message was printed above.\n",
      "2023-07-07 14:45:28.857346: E tensorflow/stream_executor/cuda/cuda_dnn.cc:371] Could not create cudnn handle: CUDNN_STATUS_NOT_INITIALIZED\n",
      "2023-07-07 14:45:28.857383: E tensorflow/stream_executor/cuda/cuda_dnn.cc:379] Possibly insufficient driver version: 470.199.2\n",
      "2023-07-07 14:45:28.857400: W tensorflow/core/framework/op_kernel.cc:1745] OP_REQUIRES failed at conv_ops.cc:1130 : UNKNOWN: Failed to get convolution algorithm. This is probably because cuDNN failed to initialize, so try looking to see if a warning log message was printed above.\n",
      "2023-07-07 14:45:28.857453: E tensorflow/stream_executor/cuda/cuda_dnn.cc:371] Could not create cudnn handle: CUDNN_STATUS_NOT_INITIALIZED\n",
      "2023-07-07 14:45:28.857489: E tensorflow/stream_executor/cuda/cuda_dnn.cc:379] Possibly insufficient driver version: 470.199.2\n",
      "2023-07-07 14:45:28.857507: W tensorflow/core/framework/op_kernel.cc:1745] OP_REQUIRES failed at conv_ops.cc:1130 : UNKNOWN: Failed to get convolution algorithm. This is probably because cuDNN failed to initialize, so try looking to see if a warning log message was printed above.\n"
     ]
    },
    {
     "ename": "UnknownError",
     "evalue": "2 root error(s) found.\n  (0) UNKNOWN: Failed to get convolution algorithm. This is probably because cuDNN failed to initialize, so try looking to see if a warning log message was printed above.\n\t [[node DKN/attention_net/kcnn/conv-maxpool-1_1/conv\n (defined at /home/hoaphumanoid/notebooks/repos/recommenders/recommenders/models/deeprec/models/dkn.py:417)\n]]\n\t [[pred/_15]]\n  (1) UNKNOWN: Failed to get convolution algorithm. This is probably because cuDNN failed to initialize, so try looking to see if a warning log message was printed above.\n\t [[node DKN/attention_net/kcnn/conv-maxpool-1_1/conv\n (defined at /home/hoaphumanoid/notebooks/repos/recommenders/recommenders/models/deeprec/models/dkn.py:417)\n]]\n0 successful operations.\n0 derived errors ignored.\n\nErrors may have originated from an input operation.\nInput Source operations connected to node DKN/attention_net/kcnn/conv-maxpool-1_1/conv:\nIn[0] DKN/attention_net/kcnn/ExpandDims_1 (defined at /home/hoaphumanoid/notebooks/repos/recommenders/recommenders/models/deeprec/models/dkn.py:383)\t\nIn[1] DKN/attention_net/kcnn/conv-maxpool-1_1/conv/ReadVariableOp:\n\nOperation defined at: (most recent call last)\n>>>   File \"/anaconda/envs/recommenders/lib/python3.9/runpy.py\", line 197, in _run_module_as_main\n>>>     return _run_code(code, main_globals, None,\n>>> \n>>>   File \"/anaconda/envs/recommenders/lib/python3.9/runpy.py\", line 87, in _run_code\n>>>     exec(code, run_globals)\n>>> \n>>>   File \"/anaconda/envs/recommenders/lib/python3.9/site-packages/ipykernel_launcher.py\", line 17, in <module>\n>>>     app.launch_new_instance()\n>>> \n>>>   File \"/anaconda/envs/recommenders/lib/python3.9/site-packages/traitlets/config/application.py\", line 1043, in launch_instance\n>>>     app.start()\n>>> \n>>>   File \"/anaconda/envs/recommenders/lib/python3.9/site-packages/ipykernel/kernelapp.py\", line 728, in start\n>>>     self.io_loop.start()\n>>> \n>>>   File \"/anaconda/envs/recommenders/lib/python3.9/site-packages/tornado/platform/asyncio.py\", line 195, in start\n>>>     self.asyncio_loop.run_forever()\n>>> \n>>>   File \"/anaconda/envs/recommenders/lib/python3.9/asyncio/base_events.py\", line 601, in run_forever\n>>>     self._run_once()\n>>> \n>>>   File \"/anaconda/envs/recommenders/lib/python3.9/asyncio/base_events.py\", line 1905, in _run_once\n>>>     handle._run()\n>>> \n>>>   File \"/anaconda/envs/recommenders/lib/python3.9/asyncio/events.py\", line 80, in _run\n>>>     self._context.run(self._callback, *self._args)\n>>> \n>>>   File \"/anaconda/envs/recommenders/lib/python3.9/site-packages/ipykernel/kernelbase.py\", line 516, in dispatch_queue\n>>>     await self.process_one()\n>>> \n>>>   File \"/anaconda/envs/recommenders/lib/python3.9/site-packages/ipykernel/kernelbase.py\", line 505, in process_one\n>>>     await dispatch(*args)\n>>> \n>>>   File \"/anaconda/envs/recommenders/lib/python3.9/site-packages/ipykernel/kernelbase.py\", line 412, in dispatch_shell\n>>>     await result\n>>> \n>>>   File \"/anaconda/envs/recommenders/lib/python3.9/site-packages/ipykernel/kernelbase.py\", line 740, in execute_request\n>>>     reply_content = await reply_content\n>>> \n>>>   File \"/anaconda/envs/recommenders/lib/python3.9/site-packages/ipykernel/ipkernel.py\", line 422, in do_execute\n>>>     res = shell.run_cell(\n>>> \n>>>   File \"/anaconda/envs/recommenders/lib/python3.9/site-packages/ipykernel/zmqshell.py\", line 540, in run_cell\n>>>     return super().run_cell(*args, **kwargs)\n>>> \n>>>   File \"/anaconda/envs/recommenders/lib/python3.9/site-packages/IPython/core/interactiveshell.py\", line 3009, in run_cell\n>>>     result = self._run_cell(\n>>> \n>>>   File \"/anaconda/envs/recommenders/lib/python3.9/site-packages/IPython/core/interactiveshell.py\", line 3064, in _run_cell\n>>>     result = runner(coro)\n>>> \n>>>   File \"/anaconda/envs/recommenders/lib/python3.9/site-packages/IPython/core/async_helpers.py\", line 129, in _pseudo_sync_runner\n>>>     coro.send(None)\n>>> \n>>>   File \"/anaconda/envs/recommenders/lib/python3.9/site-packages/IPython/core/interactiveshell.py\", line 3269, in run_cell_async\n>>>     has_raised = await self.run_ast_nodes(code_ast.body, cell_name,\n>>> \n>>>   File \"/anaconda/envs/recommenders/lib/python3.9/site-packages/IPython/core/interactiveshell.py\", line 3448, in run_ast_nodes\n>>>     if await self.run_code(code, result, async_=asy):\n>>> \n>>>   File \"/anaconda/envs/recommenders/lib/python3.9/site-packages/IPython/core/interactiveshell.py\", line 3508, in run_code\n>>>     exec(code_obj, self.user_global_ns, self.user_ns)\n>>> \n>>>   File \"/tmp/ipykernel_3302/2068934037.py\", line 1, in <module>\n>>>     model = DKN(hparams, DKNTextIterator)\n>>> \n>>>   File \"/home/hoaphumanoid/notebooks/repos/recommenders/recommenders/models/deeprec/models/dkn.py\", line 78, in __init__\n>>>     super().__init__(hparams, iterator_creator, graph=self.graph)\n>>> \n>>>   File \"/home/hoaphumanoid/notebooks/repos/recommenders/recommenders/models/deeprec/models/base_model.py\", line 56, in __init__\n>>>     self.logit = self._build_graph()\n>>> \n>>>   File \"/home/hoaphumanoid/notebooks/repos/recommenders/recommenders/models/deeprec/models/dkn.py\", line 149, in _build_graph\n>>>     logit = self._build_dkn()\n>>> \n>>>   File \"/home/hoaphumanoid/notebooks/repos/recommenders/recommenders/models/deeprec/models/dkn.py\", line 160, in _build_dkn\n>>>     click_news_embed_batch, candidate_news_embed_batch = self._build_pair_attention(\n>>> \n>>>   File \"/home/hoaphumanoid/notebooks/repos/recommenders/recommenders/models/deeprec/models/dkn.py\", line 262, in _build_pair_attention\n>>>     click_field_embed = self._kims_cnn(\n>>> \n>>>   File \"/home/hoaphumanoid/notebooks/repos/recommenders/recommenders/models/deeprec/models/dkn.py\", line 417, in _kims_cnn\n>>>     conv = tf.nn.conv2d(\n>>> \n\nInput Source operations connected to node DKN/attention_net/kcnn/conv-maxpool-1_1/conv:\nIn[0] DKN/attention_net/kcnn/ExpandDims_1 (defined at /home/hoaphumanoid/notebooks/repos/recommenders/recommenders/models/deeprec/models/dkn.py:383)\t\nIn[1] DKN/attention_net/kcnn/conv-maxpool-1_1/conv/ReadVariableOp:\n\nOperation defined at: (most recent call last)\n>>>   File \"/anaconda/envs/recommenders/lib/python3.9/runpy.py\", line 197, in _run_module_as_main\n>>>     return _run_code(code, main_globals, None,\n>>> \n>>>   File \"/anaconda/envs/recommenders/lib/python3.9/runpy.py\", line 87, in _run_code\n>>>     exec(code, run_globals)\n>>> \n>>>   File \"/anaconda/envs/recommenders/lib/python3.9/site-packages/ipykernel_launcher.py\", line 17, in <module>\n>>>     app.launch_new_instance()\n>>> \n>>>   File \"/anaconda/envs/recommenders/lib/python3.9/site-packages/traitlets/config/application.py\", line 1043, in launch_instance\n>>>     app.start()\n>>> \n>>>   File \"/anaconda/envs/recommenders/lib/python3.9/site-packages/ipykernel/kernelapp.py\", line 728, in start\n>>>     self.io_loop.start()\n>>> \n>>>   File \"/anaconda/envs/recommenders/lib/python3.9/site-packages/tornado/platform/asyncio.py\", line 195, in start\n>>>     self.asyncio_loop.run_forever()\n>>> \n>>>   File \"/anaconda/envs/recommenders/lib/python3.9/asyncio/base_events.py\", line 601, in run_forever\n>>>     self._run_once()\n>>> \n>>>   File \"/anaconda/envs/recommenders/lib/python3.9/asyncio/base_events.py\", line 1905, in _run_once\n>>>     handle._run()\n>>> \n>>>   File \"/anaconda/envs/recommenders/lib/python3.9/asyncio/events.py\", line 80, in _run\n>>>     self._context.run(self._callback, *self._args)\n>>> \n>>>   File \"/anaconda/envs/recommenders/lib/python3.9/site-packages/ipykernel/kernelbase.py\", line 516, in dispatch_queue\n>>>     await self.process_one()\n>>> \n>>>   File \"/anaconda/envs/recommenders/lib/python3.9/site-packages/ipykernel/kernelbase.py\", line 505, in process_one\n>>>     await dispatch(*args)\n>>> \n>>>   File \"/anaconda/envs/recommenders/lib/python3.9/site-packages/ipykernel/kernelbase.py\", line 412, in dispatch_shell\n>>>     await result\n>>> \n>>>   File \"/anaconda/envs/recommenders/lib/python3.9/site-packages/ipykernel/kernelbase.py\", line 740, in execute_request\n>>>     reply_content = await reply_content\n>>> \n>>>   File \"/anaconda/envs/recommenders/lib/python3.9/site-packages/ipykernel/ipkernel.py\", line 422, in do_execute\n>>>     res = shell.run_cell(\n>>> \n>>>   File \"/anaconda/envs/recommenders/lib/python3.9/site-packages/ipykernel/zmqshell.py\", line 540, in run_cell\n>>>     return super().run_cell(*args, **kwargs)\n>>> \n>>>   File \"/anaconda/envs/recommenders/lib/python3.9/site-packages/IPython/core/interactiveshell.py\", line 3009, in run_cell\n>>>     result = self._run_cell(\n>>> \n>>>   File \"/anaconda/envs/recommenders/lib/python3.9/site-packages/IPython/core/interactiveshell.py\", line 3064, in _run_cell\n>>>     result = runner(coro)\n>>> \n>>>   File \"/anaconda/envs/recommenders/lib/python3.9/site-packages/IPython/core/async_helpers.py\", line 129, in _pseudo_sync_runner\n>>>     coro.send(None)\n>>> \n>>>   File \"/anaconda/envs/recommenders/lib/python3.9/site-packages/IPython/core/interactiveshell.py\", line 3269, in run_cell_async\n>>>     has_raised = await self.run_ast_nodes(code_ast.body, cell_name,\n>>> \n>>>   File \"/anaconda/envs/recommenders/lib/python3.9/site-packages/IPython/core/interactiveshell.py\", line 3448, in run_ast_nodes\n>>>     if await self.run_code(code, result, async_=asy):\n>>> \n>>>   File \"/anaconda/envs/recommenders/lib/python3.9/site-packages/IPython/core/interactiveshell.py\", line 3508, in run_code\n>>>     exec(code_obj, self.user_global_ns, self.user_ns)\n>>> \n>>>   File \"/tmp/ipykernel_3302/2068934037.py\", line 1, in <module>\n>>>     model = DKN(hparams, DKNTextIterator)\n>>> \n>>>   File \"/home/hoaphumanoid/notebooks/repos/recommenders/recommenders/models/deeprec/models/dkn.py\", line 78, in __init__\n>>>     super().__init__(hparams, iterator_creator, graph=self.graph)\n>>> \n>>>   File \"/home/hoaphumanoid/notebooks/repos/recommenders/recommenders/models/deeprec/models/base_model.py\", line 56, in __init__\n>>>     self.logit = self._build_graph()\n>>> \n>>>   File \"/home/hoaphumanoid/notebooks/repos/recommenders/recommenders/models/deeprec/models/dkn.py\", line 149, in _build_graph\n>>>     logit = self._build_dkn()\n>>> \n>>>   File \"/home/hoaphumanoid/notebooks/repos/recommenders/recommenders/models/deeprec/models/dkn.py\", line 160, in _build_dkn\n>>>     click_news_embed_batch, candidate_news_embed_batch = self._build_pair_attention(\n>>> \n>>>   File \"/home/hoaphumanoid/notebooks/repos/recommenders/recommenders/models/deeprec/models/dkn.py\", line 262, in _build_pair_attention\n>>>     click_field_embed = self._kims_cnn(\n>>> \n>>>   File \"/home/hoaphumanoid/notebooks/repos/recommenders/recommenders/models/deeprec/models/dkn.py\", line 417, in _kims_cnn\n>>>     conv = tf.nn.conv2d(\n>>> \n\nOriginal stack trace for 'DKN/attention_net/kcnn/conv-maxpool-1_1/conv':\n  File \"/anaconda/envs/recommenders/lib/python3.9/runpy.py\", line 197, in _run_module_as_main\n    return _run_code(code, main_globals, None,\n  File \"/anaconda/envs/recommenders/lib/python3.9/runpy.py\", line 87, in _run_code\n    exec(code, run_globals)\n  File \"/anaconda/envs/recommenders/lib/python3.9/site-packages/ipykernel_launcher.py\", line 17, in <module>\n    app.launch_new_instance()\n  File \"/anaconda/envs/recommenders/lib/python3.9/site-packages/traitlets/config/application.py\", line 1043, in launch_instance\n    app.start()\n  File \"/anaconda/envs/recommenders/lib/python3.9/site-packages/ipykernel/kernelapp.py\", line 728, in start\n    self.io_loop.start()\n  File \"/anaconda/envs/recommenders/lib/python3.9/site-packages/tornado/platform/asyncio.py\", line 195, in start\n    self.asyncio_loop.run_forever()\n  File \"/anaconda/envs/recommenders/lib/python3.9/asyncio/base_events.py\", line 601, in run_forever\n    self._run_once()\n  File \"/anaconda/envs/recommenders/lib/python3.9/asyncio/base_events.py\", line 1905, in _run_once\n    handle._run()\n  File \"/anaconda/envs/recommenders/lib/python3.9/asyncio/events.py\", line 80, in _run\n    self._context.run(self._callback, *self._args)\n  File \"/anaconda/envs/recommenders/lib/python3.9/site-packages/ipykernel/kernelbase.py\", line 516, in dispatch_queue\n    await self.process_one()\n  File \"/anaconda/envs/recommenders/lib/python3.9/site-packages/ipykernel/kernelbase.py\", line 505, in process_one\n    await dispatch(*args)\n  File \"/anaconda/envs/recommenders/lib/python3.9/site-packages/ipykernel/kernelbase.py\", line 412, in dispatch_shell\n    await result\n  File \"/anaconda/envs/recommenders/lib/python3.9/site-packages/ipykernel/kernelbase.py\", line 740, in execute_request\n    reply_content = await reply_content\n  File \"/anaconda/envs/recommenders/lib/python3.9/site-packages/ipykernel/ipkernel.py\", line 422, in do_execute\n    res = shell.run_cell(\n  File \"/anaconda/envs/recommenders/lib/python3.9/site-packages/ipykernel/zmqshell.py\", line 540, in run_cell\n    return super().run_cell(*args, **kwargs)\n  File \"/anaconda/envs/recommenders/lib/python3.9/site-packages/IPython/core/interactiveshell.py\", line 3009, in run_cell\n    result = self._run_cell(\n  File \"/anaconda/envs/recommenders/lib/python3.9/site-packages/IPython/core/interactiveshell.py\", line 3064, in _run_cell\n    result = runner(coro)\n  File \"/anaconda/envs/recommenders/lib/python3.9/site-packages/IPython/core/async_helpers.py\", line 129, in _pseudo_sync_runner\n    coro.send(None)\n  File \"/anaconda/envs/recommenders/lib/python3.9/site-packages/IPython/core/interactiveshell.py\", line 3269, in run_cell_async\n    has_raised = await self.run_ast_nodes(code_ast.body, cell_name,\n  File \"/anaconda/envs/recommenders/lib/python3.9/site-packages/IPython/core/interactiveshell.py\", line 3448, in run_ast_nodes\n    if await self.run_code(code, result, async_=asy):\n  File \"/anaconda/envs/recommenders/lib/python3.9/site-packages/IPython/core/interactiveshell.py\", line 3508, in run_code\n    exec(code_obj, self.user_global_ns, self.user_ns)\n  File \"/tmp/ipykernel_3302/2068934037.py\", line 1, in <module>\n    model = DKN(hparams, DKNTextIterator)\n  File \"/home/hoaphumanoid/notebooks/repos/recommenders/recommenders/models/deeprec/models/dkn.py\", line 78, in __init__\n    super().__init__(hparams, iterator_creator, graph=self.graph)\n  File \"/home/hoaphumanoid/notebooks/repos/recommenders/recommenders/models/deeprec/models/base_model.py\", line 56, in __init__\n    self.logit = self._build_graph()\n  File \"/home/hoaphumanoid/notebooks/repos/recommenders/recommenders/models/deeprec/models/dkn.py\", line 149, in _build_graph\n    logit = self._build_dkn()\n  File \"/home/hoaphumanoid/notebooks/repos/recommenders/recommenders/models/deeprec/models/dkn.py\", line 160, in _build_dkn\n    click_news_embed_batch, candidate_news_embed_batch = self._build_pair_attention(\n  File \"/home/hoaphumanoid/notebooks/repos/recommenders/recommenders/models/deeprec/models/dkn.py\", line 262, in _build_pair_attention\n    click_field_embed = self._kims_cnn(\n  File \"/home/hoaphumanoid/notebooks/repos/recommenders/recommenders/models/deeprec/models/dkn.py\", line 417, in _kims_cnn\n    conv = tf.nn.conv2d(\n  File \"/anaconda/envs/recommenders/lib/python3.9/site-packages/tensorflow/python/util/traceback_utils.py\", line 150, in error_handler\n    return fn(*args, **kwargs)\n  File \"/anaconda/envs/recommenders/lib/python3.9/site-packages/tensorflow/python/util/dispatch.py\", line 1096, in op_dispatch_handler\n    return dispatch_target(*args, **kwargs)\n  File \"/anaconda/envs/recommenders/lib/python3.9/site-packages/tensorflow/python/ops/nn_ops.py\", line 2324, in conv2d_v2\n    return conv2d(input,  # pylint: disable=redefined-builtin\n  File \"/anaconda/envs/recommenders/lib/python3.9/site-packages/tensorflow/python/util/traceback_utils.py\", line 150, in error_handler\n    return fn(*args, **kwargs)\n  File \"/anaconda/envs/recommenders/lib/python3.9/site-packages/tensorflow/python/util/dispatch.py\", line 1096, in op_dispatch_handler\n    return dispatch_target(*args, **kwargs)\n  File \"/anaconda/envs/recommenders/lib/python3.9/site-packages/tensorflow/python/ops/nn_ops.py\", line 2431, in conv2d\n    return gen_nn_ops.conv2d(\n  File \"/anaconda/envs/recommenders/lib/python3.9/site-packages/tensorflow/python/ops/gen_nn_ops.py\", line 969, in conv2d\n    _, _, _op, _outputs = _op_def_library._apply_op_helper(\n  File \"/anaconda/envs/recommenders/lib/python3.9/site-packages/tensorflow/python/framework/op_def_library.py\", line 744, in _apply_op_helper\n    op = g._create_op_internal(op_type_name, inputs, dtypes=None,\n  File \"/anaconda/envs/recommenders/lib/python3.9/site-packages/tensorflow/python/framework/ops.py\", line 3697, in _create_op_internal\n    ret = Operation(\n  File \"/anaconda/envs/recommenders/lib/python3.9/site-packages/tensorflow/python/framework/ops.py\", line 2101, in __init__\n    self._traceback = tf_stack.extract_stack_for_node(self._c_op)\n",
     "output_type": "error",
     "traceback": [
      "\u001b[0;31m---------------------------------------------------------------------------\u001b[0m",
      "\u001b[0;31mUnknownError\u001b[0m                              Traceback (most recent call last)",
      "File \u001b[0;32m/anaconda/envs/recommenders/lib/python3.9/site-packages/tensorflow/python/client/session.py:1380\u001b[0m, in \u001b[0;36mBaseSession._do_call\u001b[0;34m(self, fn, *args)\u001b[0m\n\u001b[1;32m   1379\u001b[0m \u001b[39mtry\u001b[39;00m:\n\u001b[0;32m-> 1380\u001b[0m   \u001b[39mreturn\u001b[39;00m fn(\u001b[39m*\u001b[39;49margs)\n\u001b[1;32m   1381\u001b[0m \u001b[39mexcept\u001b[39;00m errors\u001b[39m.\u001b[39mOpError \u001b[39mas\u001b[39;00m e:\n",
      "File \u001b[0;32m/anaconda/envs/recommenders/lib/python3.9/site-packages/tensorflow/python/client/session.py:1363\u001b[0m, in \u001b[0;36mBaseSession._do_run.<locals>._run_fn\u001b[0;34m(feed_dict, fetch_list, target_list, options, run_metadata)\u001b[0m\n\u001b[1;32m   1362\u001b[0m \u001b[39mself\u001b[39m\u001b[39m.\u001b[39m_extend_graph()\n\u001b[0;32m-> 1363\u001b[0m \u001b[39mreturn\u001b[39;00m \u001b[39mself\u001b[39;49m\u001b[39m.\u001b[39;49m_call_tf_sessionrun(options, feed_dict, fetch_list,\n\u001b[1;32m   1364\u001b[0m                                 target_list, run_metadata)\n",
      "File \u001b[0;32m/anaconda/envs/recommenders/lib/python3.9/site-packages/tensorflow/python/client/session.py:1456\u001b[0m, in \u001b[0;36mBaseSession._call_tf_sessionrun\u001b[0;34m(self, options, feed_dict, fetch_list, target_list, run_metadata)\u001b[0m\n\u001b[1;32m   1454\u001b[0m \u001b[39mdef\u001b[39;00m \u001b[39m_call_tf_sessionrun\u001b[39m(\u001b[39mself\u001b[39m, options, feed_dict, fetch_list, target_list,\n\u001b[1;32m   1455\u001b[0m                         run_metadata):\n\u001b[0;32m-> 1456\u001b[0m   \u001b[39mreturn\u001b[39;00m tf_session\u001b[39m.\u001b[39;49mTF_SessionRun_wrapper(\u001b[39mself\u001b[39;49m\u001b[39m.\u001b[39;49m_session, options, feed_dict,\n\u001b[1;32m   1457\u001b[0m                                           fetch_list, target_list,\n\u001b[1;32m   1458\u001b[0m                                           run_metadata)\n",
      "\u001b[0;31mUnknownError\u001b[0m: 2 root error(s) found.\n  (0) UNKNOWN: Failed to get convolution algorithm. This is probably because cuDNN failed to initialize, so try looking to see if a warning log message was printed above.\n\t [[{{node DKN/attention_net/kcnn/conv-maxpool-1_1/conv}}]]\n\t [[pred/_15]]\n  (1) UNKNOWN: Failed to get convolution algorithm. This is probably because cuDNN failed to initialize, so try looking to see if a warning log message was printed above.\n\t [[{{node DKN/attention_net/kcnn/conv-maxpool-1_1/conv}}]]\n0 successful operations.\n0 derived errors ignored.",
      "\nDuring handling of the above exception, another exception occurred:\n",
      "\u001b[0;31mUnknownError\u001b[0m                              Traceback (most recent call last)",
      "Cell \u001b[0;32mIn[8], line 1\u001b[0m\n\u001b[0;32m----> 1\u001b[0m \u001b[39mprint\u001b[39m(model\u001b[39m.\u001b[39;49mrun_eval(valid_file))\n",
      "File \u001b[0;32m~/notebooks/repos/recommenders/recommenders/models/deeprec/models/base_model.py:584\u001b[0m, in \u001b[0;36mBaseModel.run_eval\u001b[0;34m(self, filename)\u001b[0m\n\u001b[1;32m    580\u001b[0m imp_indexs \u001b[39m=\u001b[39m []\n\u001b[1;32m    581\u001b[0m \u001b[39mfor\u001b[39;00m batch_data_input, imp_index, data_size \u001b[39min\u001b[39;00m \u001b[39mself\u001b[39m\u001b[39m.\u001b[39miterator\u001b[39m.\u001b[39mload_data_from_file(\n\u001b[1;32m    582\u001b[0m     filename\n\u001b[1;32m    583\u001b[0m ):\n\u001b[0;32m--> 584\u001b[0m     step_pred, step_labels \u001b[39m=\u001b[39m \u001b[39mself\u001b[39;49m\u001b[39m.\u001b[39;49meval(load_sess, batch_data_input)\n\u001b[1;32m    585\u001b[0m     preds\u001b[39m.\u001b[39mextend(np\u001b[39m.\u001b[39mreshape(step_pred, \u001b[39m-\u001b[39m\u001b[39m1\u001b[39m))\n\u001b[1;32m    586\u001b[0m     labels\u001b[39m.\u001b[39mextend(np\u001b[39m.\u001b[39mreshape(step_labels, \u001b[39m-\u001b[39m\u001b[39m1\u001b[39m))\n",
      "File \u001b[0;32m~/notebooks/repos/recommenders/recommenders/models/deeprec/models/base_model.py:402\u001b[0m, in \u001b[0;36mBaseModel.eval\u001b[0;34m(self, sess, feed_dict)\u001b[0m\n\u001b[1;32m    400\u001b[0m feed_dict[\u001b[39mself\u001b[39m\u001b[39m.\u001b[39mlayer_keeps] \u001b[39m=\u001b[39m \u001b[39mself\u001b[39m\u001b[39m.\u001b[39mkeep_prob_test\n\u001b[1;32m    401\u001b[0m feed_dict[\u001b[39mself\u001b[39m\u001b[39m.\u001b[39mis_train_stage] \u001b[39m=\u001b[39m \u001b[39mFalse\u001b[39;00m\n\u001b[0;32m--> 402\u001b[0m \u001b[39mreturn\u001b[39;00m sess\u001b[39m.\u001b[39;49mrun([\u001b[39mself\u001b[39;49m\u001b[39m.\u001b[39;49mpred, \u001b[39mself\u001b[39;49m\u001b[39m.\u001b[39;49miterator\u001b[39m.\u001b[39;49mlabels], feed_dict\u001b[39m=\u001b[39;49mfeed_dict)\n",
      "File \u001b[0;32m/anaconda/envs/recommenders/lib/python3.9/site-packages/tensorflow/python/client/session.py:970\u001b[0m, in \u001b[0;36mBaseSession.run\u001b[0;34m(self, fetches, feed_dict, options, run_metadata)\u001b[0m\n\u001b[1;32m    967\u001b[0m run_metadata_ptr \u001b[39m=\u001b[39m tf_session\u001b[39m.\u001b[39mTF_NewBuffer() \u001b[39mif\u001b[39;00m run_metadata \u001b[39melse\u001b[39;00m \u001b[39mNone\u001b[39;00m\n\u001b[1;32m    969\u001b[0m \u001b[39mtry\u001b[39;00m:\n\u001b[0;32m--> 970\u001b[0m   result \u001b[39m=\u001b[39m \u001b[39mself\u001b[39;49m\u001b[39m.\u001b[39;49m_run(\u001b[39mNone\u001b[39;49;00m, fetches, feed_dict, options_ptr,\n\u001b[1;32m    971\u001b[0m                      run_metadata_ptr)\n\u001b[1;32m    972\u001b[0m   \u001b[39mif\u001b[39;00m run_metadata:\n\u001b[1;32m    973\u001b[0m     proto_data \u001b[39m=\u001b[39m tf_session\u001b[39m.\u001b[39mTF_GetBuffer(run_metadata_ptr)\n",
      "File \u001b[0;32m/anaconda/envs/recommenders/lib/python3.9/site-packages/tensorflow/python/client/session.py:1193\u001b[0m, in \u001b[0;36mBaseSession._run\u001b[0;34m(self, handle, fetches, feed_dict, options, run_metadata)\u001b[0m\n\u001b[1;32m   1190\u001b[0m \u001b[39m# We only want to really perform the run if fetches or targets are provided,\u001b[39;00m\n\u001b[1;32m   1191\u001b[0m \u001b[39m# or if the call is a partial run that specifies feeds.\u001b[39;00m\n\u001b[1;32m   1192\u001b[0m \u001b[39mif\u001b[39;00m final_fetches \u001b[39mor\u001b[39;00m final_targets \u001b[39mor\u001b[39;00m (handle \u001b[39mand\u001b[39;00m feed_dict_tensor):\n\u001b[0;32m-> 1193\u001b[0m   results \u001b[39m=\u001b[39m \u001b[39mself\u001b[39;49m\u001b[39m.\u001b[39;49m_do_run(handle, final_targets, final_fetches,\n\u001b[1;32m   1194\u001b[0m                          feed_dict_tensor, options, run_metadata)\n\u001b[1;32m   1195\u001b[0m \u001b[39melse\u001b[39;00m:\n\u001b[1;32m   1196\u001b[0m   results \u001b[39m=\u001b[39m []\n",
      "File \u001b[0;32m/anaconda/envs/recommenders/lib/python3.9/site-packages/tensorflow/python/client/session.py:1373\u001b[0m, in \u001b[0;36mBaseSession._do_run\u001b[0;34m(self, handle, target_list, fetch_list, feed_dict, options, run_metadata)\u001b[0m\n\u001b[1;32m   1370\u001b[0m   \u001b[39mreturn\u001b[39;00m \u001b[39mself\u001b[39m\u001b[39m.\u001b[39m_call_tf_sessionprun(handle, feed_dict, fetch_list)\n\u001b[1;32m   1372\u001b[0m \u001b[39mif\u001b[39;00m handle \u001b[39mis\u001b[39;00m \u001b[39mNone\u001b[39;00m:\n\u001b[0;32m-> 1373\u001b[0m   \u001b[39mreturn\u001b[39;00m \u001b[39mself\u001b[39;49m\u001b[39m.\u001b[39;49m_do_call(_run_fn, feeds, fetches, targets, options,\n\u001b[1;32m   1374\u001b[0m                        run_metadata)\n\u001b[1;32m   1375\u001b[0m \u001b[39melse\u001b[39;00m:\n\u001b[1;32m   1376\u001b[0m   \u001b[39mreturn\u001b[39;00m \u001b[39mself\u001b[39m\u001b[39m.\u001b[39m_do_call(_prun_fn, handle, feeds, fetches)\n",
      "File \u001b[0;32m/anaconda/envs/recommenders/lib/python3.9/site-packages/tensorflow/python/client/session.py:1399\u001b[0m, in \u001b[0;36mBaseSession._do_call\u001b[0;34m(self, fn, *args)\u001b[0m\n\u001b[1;32m   1394\u001b[0m \u001b[39mif\u001b[39;00m \u001b[39m'\u001b[39m\u001b[39monly supports NHWC tensor format\u001b[39m\u001b[39m'\u001b[39m \u001b[39min\u001b[39;00m message:\n\u001b[1;32m   1395\u001b[0m   message \u001b[39m+\u001b[39m\u001b[39m=\u001b[39m (\u001b[39m'\u001b[39m\u001b[39m\\n\u001b[39;00m\u001b[39mA possible workaround: Try disabling Grappler optimizer\u001b[39m\u001b[39m'\u001b[39m\n\u001b[1;32m   1396\u001b[0m               \u001b[39m'\u001b[39m\u001b[39m\\n\u001b[39;00m\u001b[39mby modifying the config for creating the session eg.\u001b[39m\u001b[39m'\u001b[39m\n\u001b[1;32m   1397\u001b[0m               \u001b[39m'\u001b[39m\u001b[39m\\n\u001b[39;00m\u001b[39msession_config.graph_options.rewrite_options.\u001b[39m\u001b[39m'\u001b[39m\n\u001b[1;32m   1398\u001b[0m               \u001b[39m'\u001b[39m\u001b[39mdisable_meta_optimizer = True\u001b[39m\u001b[39m'\u001b[39m)\n\u001b[0;32m-> 1399\u001b[0m \u001b[39mraise\u001b[39;00m \u001b[39mtype\u001b[39m(e)(node_def, op, message)\n",
      "\u001b[0;31mUnknownError\u001b[0m: 2 root error(s) found.\n  (0) UNKNOWN: Failed to get convolution algorithm. This is probably because cuDNN failed to initialize, so try looking to see if a warning log message was printed above.\n\t [[node DKN/attention_net/kcnn/conv-maxpool-1_1/conv\n (defined at /home/hoaphumanoid/notebooks/repos/recommenders/recommenders/models/deeprec/models/dkn.py:417)\n]]\n\t [[pred/_15]]\n  (1) UNKNOWN: Failed to get convolution algorithm. This is probably because cuDNN failed to initialize, so try looking to see if a warning log message was printed above.\n\t [[node DKN/attention_net/kcnn/conv-maxpool-1_1/conv\n (defined at /home/hoaphumanoid/notebooks/repos/recommenders/recommenders/models/deeprec/models/dkn.py:417)\n]]\n0 successful operations.\n0 derived errors ignored.\n\nErrors may have originated from an input operation.\nInput Source operations connected to node DKN/attention_net/kcnn/conv-maxpool-1_1/conv:\nIn[0] DKN/attention_net/kcnn/ExpandDims_1 (defined at /home/hoaphumanoid/notebooks/repos/recommenders/recommenders/models/deeprec/models/dkn.py:383)\t\nIn[1] DKN/attention_net/kcnn/conv-maxpool-1_1/conv/ReadVariableOp:\n\nOperation defined at: (most recent call last)\n>>>   File \"/anaconda/envs/recommenders/lib/python3.9/runpy.py\", line 197, in _run_module_as_main\n>>>     return _run_code(code, main_globals, None,\n>>> \n>>>   File \"/anaconda/envs/recommenders/lib/python3.9/runpy.py\", line 87, in _run_code\n>>>     exec(code, run_globals)\n>>> \n>>>   File \"/anaconda/envs/recommenders/lib/python3.9/site-packages/ipykernel_launcher.py\", line 17, in <module>\n>>>     app.launch_new_instance()\n>>> \n>>>   File \"/anaconda/envs/recommenders/lib/python3.9/site-packages/traitlets/config/application.py\", line 1043, in launch_instance\n>>>     app.start()\n>>> \n>>>   File \"/anaconda/envs/recommenders/lib/python3.9/site-packages/ipykernel/kernelapp.py\", line 728, in start\n>>>     self.io_loop.start()\n>>> \n>>>   File \"/anaconda/envs/recommenders/lib/python3.9/site-packages/tornado/platform/asyncio.py\", line 195, in start\n>>>     self.asyncio_loop.run_forever()\n>>> \n>>>   File \"/anaconda/envs/recommenders/lib/python3.9/asyncio/base_events.py\", line 601, in run_forever\n>>>     self._run_once()\n>>> \n>>>   File \"/anaconda/envs/recommenders/lib/python3.9/asyncio/base_events.py\", line 1905, in _run_once\n>>>     handle._run()\n>>> \n>>>   File \"/anaconda/envs/recommenders/lib/python3.9/asyncio/events.py\", line 80, in _run\n>>>     self._context.run(self._callback, *self._args)\n>>> \n>>>   File \"/anaconda/envs/recommenders/lib/python3.9/site-packages/ipykernel/kernelbase.py\", line 516, in dispatch_queue\n>>>     await self.process_one()\n>>> \n>>>   File \"/anaconda/envs/recommenders/lib/python3.9/site-packages/ipykernel/kernelbase.py\", line 505, in process_one\n>>>     await dispatch(*args)\n>>> \n>>>   File \"/anaconda/envs/recommenders/lib/python3.9/site-packages/ipykernel/kernelbase.py\", line 412, in dispatch_shell\n>>>     await result\n>>> \n>>>   File \"/anaconda/envs/recommenders/lib/python3.9/site-packages/ipykernel/kernelbase.py\", line 740, in execute_request\n>>>     reply_content = await reply_content\n>>> \n>>>   File \"/anaconda/envs/recommenders/lib/python3.9/site-packages/ipykernel/ipkernel.py\", line 422, in do_execute\n>>>     res = shell.run_cell(\n>>> \n>>>   File \"/anaconda/envs/recommenders/lib/python3.9/site-packages/ipykernel/zmqshell.py\", line 540, in run_cell\n>>>     return super().run_cell(*args, **kwargs)\n>>> \n>>>   File \"/anaconda/envs/recommenders/lib/python3.9/site-packages/IPython/core/interactiveshell.py\", line 3009, in run_cell\n>>>     result = self._run_cell(\n>>> \n>>>   File \"/anaconda/envs/recommenders/lib/python3.9/site-packages/IPython/core/interactiveshell.py\", line 3064, in _run_cell\n>>>     result = runner(coro)\n>>> \n>>>   File \"/anaconda/envs/recommenders/lib/python3.9/site-packages/IPython/core/async_helpers.py\", line 129, in _pseudo_sync_runner\n>>>     coro.send(None)\n>>> \n>>>   File \"/anaconda/envs/recommenders/lib/python3.9/site-packages/IPython/core/interactiveshell.py\", line 3269, in run_cell_async\n>>>     has_raised = await self.run_ast_nodes(code_ast.body, cell_name,\n>>> \n>>>   File \"/anaconda/envs/recommenders/lib/python3.9/site-packages/IPython/core/interactiveshell.py\", line 3448, in run_ast_nodes\n>>>     if await self.run_code(code, result, async_=asy):\n>>> \n>>>   File \"/anaconda/envs/recommenders/lib/python3.9/site-packages/IPython/core/interactiveshell.py\", line 3508, in run_code\n>>>     exec(code_obj, self.user_global_ns, self.user_ns)\n>>> \n>>>   File \"/tmp/ipykernel_3302/2068934037.py\", line 1, in <module>\n>>>     model = DKN(hparams, DKNTextIterator)\n>>> \n>>>   File \"/home/hoaphumanoid/notebooks/repos/recommenders/recommenders/models/deeprec/models/dkn.py\", line 78, in __init__\n>>>     super().__init__(hparams, iterator_creator, graph=self.graph)\n>>> \n>>>   File \"/home/hoaphumanoid/notebooks/repos/recommenders/recommenders/models/deeprec/models/base_model.py\", line 56, in __init__\n>>>     self.logit = self._build_graph()\n>>> \n>>>   File \"/home/hoaphumanoid/notebooks/repos/recommenders/recommenders/models/deeprec/models/dkn.py\", line 149, in _build_graph\n>>>     logit = self._build_dkn()\n>>> \n>>>   File \"/home/hoaphumanoid/notebooks/repos/recommenders/recommenders/models/deeprec/models/dkn.py\", line 160, in _build_dkn\n>>>     click_news_embed_batch, candidate_news_embed_batch = self._build_pair_attention(\n>>> \n>>>   File \"/home/hoaphumanoid/notebooks/repos/recommenders/recommenders/models/deeprec/models/dkn.py\", line 262, in _build_pair_attention\n>>>     click_field_embed = self._kims_cnn(\n>>> \n>>>   File \"/home/hoaphumanoid/notebooks/repos/recommenders/recommenders/models/deeprec/models/dkn.py\", line 417, in _kims_cnn\n>>>     conv = tf.nn.conv2d(\n>>> \n\nInput Source operations connected to node DKN/attention_net/kcnn/conv-maxpool-1_1/conv:\nIn[0] DKN/attention_net/kcnn/ExpandDims_1 (defined at /home/hoaphumanoid/notebooks/repos/recommenders/recommenders/models/deeprec/models/dkn.py:383)\t\nIn[1] DKN/attention_net/kcnn/conv-maxpool-1_1/conv/ReadVariableOp:\n\nOperation defined at: (most recent call last)\n>>>   File \"/anaconda/envs/recommenders/lib/python3.9/runpy.py\", line 197, in _run_module_as_main\n>>>     return _run_code(code, main_globals, None,\n>>> \n>>>   File \"/anaconda/envs/recommenders/lib/python3.9/runpy.py\", line 87, in _run_code\n>>>     exec(code, run_globals)\n>>> \n>>>   File \"/anaconda/envs/recommenders/lib/python3.9/site-packages/ipykernel_launcher.py\", line 17, in <module>\n>>>     app.launch_new_instance()\n>>> \n>>>   File \"/anaconda/envs/recommenders/lib/python3.9/site-packages/traitlets/config/application.py\", line 1043, in launch_instance\n>>>     app.start()\n>>> \n>>>   File \"/anaconda/envs/recommenders/lib/python3.9/site-packages/ipykernel/kernelapp.py\", line 728, in start\n>>>     self.io_loop.start()\n>>> \n>>>   File \"/anaconda/envs/recommenders/lib/python3.9/site-packages/tornado/platform/asyncio.py\", line 195, in start\n>>>     self.asyncio_loop.run_forever()\n>>> \n>>>   File \"/anaconda/envs/recommenders/lib/python3.9/asyncio/base_events.py\", line 601, in run_forever\n>>>     self._run_once()\n>>> \n>>>   File \"/anaconda/envs/recommenders/lib/python3.9/asyncio/base_events.py\", line 1905, in _run_once\n>>>     handle._run()\n>>> \n>>>   File \"/anaconda/envs/recommenders/lib/python3.9/asyncio/events.py\", line 80, in _run\n>>>     self._context.run(self._callback, *self._args)\n>>> \n>>>   File \"/anaconda/envs/recommenders/lib/python3.9/site-packages/ipykernel/kernelbase.py\", line 516, in dispatch_queue\n>>>     await self.process_one()\n>>> \n>>>   File \"/anaconda/envs/recommenders/lib/python3.9/site-packages/ipykernel/kernelbase.py\", line 505, in process_one\n>>>     await dispatch(*args)\n>>> \n>>>   File \"/anaconda/envs/recommenders/lib/python3.9/site-packages/ipykernel/kernelbase.py\", line 412, in dispatch_shell\n>>>     await result\n>>> \n>>>   File \"/anaconda/envs/recommenders/lib/python3.9/site-packages/ipykernel/kernelbase.py\", line 740, in execute_request\n>>>     reply_content = await reply_content\n>>> \n>>>   File \"/anaconda/envs/recommenders/lib/python3.9/site-packages/ipykernel/ipkernel.py\", line 422, in do_execute\n>>>     res = shell.run_cell(\n>>> \n>>>   File \"/anaconda/envs/recommenders/lib/python3.9/site-packages/ipykernel/zmqshell.py\", line 540, in run_cell\n>>>     return super().run_cell(*args, **kwargs)\n>>> \n>>>   File \"/anaconda/envs/recommenders/lib/python3.9/site-packages/IPython/core/interactiveshell.py\", line 3009, in run_cell\n>>>     result = self._run_cell(\n>>> \n>>>   File \"/anaconda/envs/recommenders/lib/python3.9/site-packages/IPython/core/interactiveshell.py\", line 3064, in _run_cell\n>>>     result = runner(coro)\n>>> \n>>>   File \"/anaconda/envs/recommenders/lib/python3.9/site-packages/IPython/core/async_helpers.py\", line 129, in _pseudo_sync_runner\n>>>     coro.send(None)\n>>> \n>>>   File \"/anaconda/envs/recommenders/lib/python3.9/site-packages/IPython/core/interactiveshell.py\", line 3269, in run_cell_async\n>>>     has_raised = await self.run_ast_nodes(code_ast.body, cell_name,\n>>> \n>>>   File \"/anaconda/envs/recommenders/lib/python3.9/site-packages/IPython/core/interactiveshell.py\", line 3448, in run_ast_nodes\n>>>     if await self.run_code(code, result, async_=asy):\n>>> \n>>>   File \"/anaconda/envs/recommenders/lib/python3.9/site-packages/IPython/core/interactiveshell.py\", line 3508, in run_code\n>>>     exec(code_obj, self.user_global_ns, self.user_ns)\n>>> \n>>>   File \"/tmp/ipykernel_3302/2068934037.py\", line 1, in <module>\n>>>     model = DKN(hparams, DKNTextIterator)\n>>> \n>>>   File \"/home/hoaphumanoid/notebooks/repos/recommenders/recommenders/models/deeprec/models/dkn.py\", line 78, in __init__\n>>>     super().__init__(hparams, iterator_creator, graph=self.graph)\n>>> \n>>>   File \"/home/hoaphumanoid/notebooks/repos/recommenders/recommenders/models/deeprec/models/base_model.py\", line 56, in __init__\n>>>     self.logit = self._build_graph()\n>>> \n>>>   File \"/home/hoaphumanoid/notebooks/repos/recommenders/recommenders/models/deeprec/models/dkn.py\", line 149, in _build_graph\n>>>     logit = self._build_dkn()\n>>> \n>>>   File \"/home/hoaphumanoid/notebooks/repos/recommenders/recommenders/models/deeprec/models/dkn.py\", line 160, in _build_dkn\n>>>     click_news_embed_batch, candidate_news_embed_batch = self._build_pair_attention(\n>>> \n>>>   File \"/home/hoaphumanoid/notebooks/repos/recommenders/recommenders/models/deeprec/models/dkn.py\", line 262, in _build_pair_attention\n>>>     click_field_embed = self._kims_cnn(\n>>> \n>>>   File \"/home/hoaphumanoid/notebooks/repos/recommenders/recommenders/models/deeprec/models/dkn.py\", line 417, in _kims_cnn\n>>>     conv = tf.nn.conv2d(\n>>> \n\nOriginal stack trace for 'DKN/attention_net/kcnn/conv-maxpool-1_1/conv':\n  File \"/anaconda/envs/recommenders/lib/python3.9/runpy.py\", line 197, in _run_module_as_main\n    return _run_code(code, main_globals, None,\n  File \"/anaconda/envs/recommenders/lib/python3.9/runpy.py\", line 87, in _run_code\n    exec(code, run_globals)\n  File \"/anaconda/envs/recommenders/lib/python3.9/site-packages/ipykernel_launcher.py\", line 17, in <module>\n    app.launch_new_instance()\n  File \"/anaconda/envs/recommenders/lib/python3.9/site-packages/traitlets/config/application.py\", line 1043, in launch_instance\n    app.start()\n  File \"/anaconda/envs/recommenders/lib/python3.9/site-packages/ipykernel/kernelapp.py\", line 728, in start\n    self.io_loop.start()\n  File \"/anaconda/envs/recommenders/lib/python3.9/site-packages/tornado/platform/asyncio.py\", line 195, in start\n    self.asyncio_loop.run_forever()\n  File \"/anaconda/envs/recommenders/lib/python3.9/asyncio/base_events.py\", line 601, in run_forever\n    self._run_once()\n  File \"/anaconda/envs/recommenders/lib/python3.9/asyncio/base_events.py\", line 1905, in _run_once\n    handle._run()\n  File \"/anaconda/envs/recommenders/lib/python3.9/asyncio/events.py\", line 80, in _run\n    self._context.run(self._callback, *self._args)\n  File \"/anaconda/envs/recommenders/lib/python3.9/site-packages/ipykernel/kernelbase.py\", line 516, in dispatch_queue\n    await self.process_one()\n  File \"/anaconda/envs/recommenders/lib/python3.9/site-packages/ipykernel/kernelbase.py\", line 505, in process_one\n    await dispatch(*args)\n  File \"/anaconda/envs/recommenders/lib/python3.9/site-packages/ipykernel/kernelbase.py\", line 412, in dispatch_shell\n    await result\n  File \"/anaconda/envs/recommenders/lib/python3.9/site-packages/ipykernel/kernelbase.py\", line 740, in execute_request\n    reply_content = await reply_content\n  File \"/anaconda/envs/recommenders/lib/python3.9/site-packages/ipykernel/ipkernel.py\", line 422, in do_execute\n    res = shell.run_cell(\n  File \"/anaconda/envs/recommenders/lib/python3.9/site-packages/ipykernel/zmqshell.py\", line 540, in run_cell\n    return super().run_cell(*args, **kwargs)\n  File \"/anaconda/envs/recommenders/lib/python3.9/site-packages/IPython/core/interactiveshell.py\", line 3009, in run_cell\n    result = self._run_cell(\n  File \"/anaconda/envs/recommenders/lib/python3.9/site-packages/IPython/core/interactiveshell.py\", line 3064, in _run_cell\n    result = runner(coro)\n  File \"/anaconda/envs/recommenders/lib/python3.9/site-packages/IPython/core/async_helpers.py\", line 129, in _pseudo_sync_runner\n    coro.send(None)\n  File \"/anaconda/envs/recommenders/lib/python3.9/site-packages/IPython/core/interactiveshell.py\", line 3269, in run_cell_async\n    has_raised = await self.run_ast_nodes(code_ast.body, cell_name,\n  File \"/anaconda/envs/recommenders/lib/python3.9/site-packages/IPython/core/interactiveshell.py\", line 3448, in run_ast_nodes\n    if await self.run_code(code, result, async_=asy):\n  File \"/anaconda/envs/recommenders/lib/python3.9/site-packages/IPython/core/interactiveshell.py\", line 3508, in run_code\n    exec(code_obj, self.user_global_ns, self.user_ns)\n  File \"/tmp/ipykernel_3302/2068934037.py\", line 1, in <module>\n    model = DKN(hparams, DKNTextIterator)\n  File \"/home/hoaphumanoid/notebooks/repos/recommenders/recommenders/models/deeprec/models/dkn.py\", line 78, in __init__\n    super().__init__(hparams, iterator_creator, graph=self.graph)\n  File \"/home/hoaphumanoid/notebooks/repos/recommenders/recommenders/models/deeprec/models/base_model.py\", line 56, in __init__\n    self.logit = self._build_graph()\n  File \"/home/hoaphumanoid/notebooks/repos/recommenders/recommenders/models/deeprec/models/dkn.py\", line 149, in _build_graph\n    logit = self._build_dkn()\n  File \"/home/hoaphumanoid/notebooks/repos/recommenders/recommenders/models/deeprec/models/dkn.py\", line 160, in _build_dkn\n    click_news_embed_batch, candidate_news_embed_batch = self._build_pair_attention(\n  File \"/home/hoaphumanoid/notebooks/repos/recommenders/recommenders/models/deeprec/models/dkn.py\", line 262, in _build_pair_attention\n    click_field_embed = self._kims_cnn(\n  File \"/home/hoaphumanoid/notebooks/repos/recommenders/recommenders/models/deeprec/models/dkn.py\", line 417, in _kims_cnn\n    conv = tf.nn.conv2d(\n  File \"/anaconda/envs/recommenders/lib/python3.9/site-packages/tensorflow/python/util/traceback_utils.py\", line 150, in error_handler\n    return fn(*args, **kwargs)\n  File \"/anaconda/envs/recommenders/lib/python3.9/site-packages/tensorflow/python/util/dispatch.py\", line 1096, in op_dispatch_handler\n    return dispatch_target(*args, **kwargs)\n  File \"/anaconda/envs/recommenders/lib/python3.9/site-packages/tensorflow/python/ops/nn_ops.py\", line 2324, in conv2d_v2\n    return conv2d(input,  # pylint: disable=redefined-builtin\n  File \"/anaconda/envs/recommenders/lib/python3.9/site-packages/tensorflow/python/util/traceback_utils.py\", line 150, in error_handler\n    return fn(*args, **kwargs)\n  File \"/anaconda/envs/recommenders/lib/python3.9/site-packages/tensorflow/python/util/dispatch.py\", line 1096, in op_dispatch_handler\n    return dispatch_target(*args, **kwargs)\n  File \"/anaconda/envs/recommenders/lib/python3.9/site-packages/tensorflow/python/ops/nn_ops.py\", line 2431, in conv2d\n    return gen_nn_ops.conv2d(\n  File \"/anaconda/envs/recommenders/lib/python3.9/site-packages/tensorflow/python/ops/gen_nn_ops.py\", line 969, in conv2d\n    _, _, _op, _outputs = _op_def_library._apply_op_helper(\n  File \"/anaconda/envs/recommenders/lib/python3.9/site-packages/tensorflow/python/framework/op_def_library.py\", line 744, in _apply_op_helper\n    op = g._create_op_internal(op_type_name, inputs, dtypes=None,\n  File \"/anaconda/envs/recommenders/lib/python3.9/site-packages/tensorflow/python/framework/ops.py\", line 3697, in _create_op_internal\n    ret = Operation(\n  File \"/anaconda/envs/recommenders/lib/python3.9/site-packages/tensorflow/python/framework/ops.py\", line 2101, in __init__\n    self._traceback = tf_stack.extract_stack_for_node(self._c_op)\n"
     ]
    }
   ],
   "source": [
    "print(model.run_eval(valid_file))"
   ]
  },
  {
   "cell_type": "code",
   "execution_count": null,
   "metadata": {
    "pycharm": {
     "is_executing": false
    },
    "scrolled": true
   },
   "outputs": [],
   "source": [
    "model.fit(train_file, valid_file)"
   ]
  },
  {
   "attachments": {},
   "cell_type": "markdown",
   "metadata": {},
   "source": [
    "## Evaluate the DKN model\n",
    "\n",
    "Now we can check the performance on the test set:"
   ]
  },
  {
   "cell_type": "code",
   "execution_count": null,
   "metadata": {
    "pycharm": {
     "is_executing": false
    }
   },
   "outputs": [],
   "source": [
    "res = model.run_eval(test_file)\n",
    "print(res)"
   ]
  },
  {
   "cell_type": "code",
   "execution_count": null,
   "metadata": {},
   "outputs": [],
   "source": [
    "sb.glue(\"res\", res)"
   ]
  },
  {
   "attachments": {},
   "cell_type": "markdown",
   "metadata": {},
   "source": [
    "## References\n",
    "\n",
    "\\[1\\] Wang, Hongwei, et al. \"DKN: Deep Knowledge-Aware Network for News Recommendation.\" Proceedings of the 2018 World Wide Web Conference on World Wide Web. International World Wide Web Conferences Steering Committee, 2018.<br>\n",
    "\\[2\\] Knowledge Graph Embeddings including TransE, TransH, TransR and PTransE. https://github.com/thunlp/KB2E <br>\n",
    "\\[3\\] Wu, Fangzhao, et al. \"MIND: A Large-scale Dataset for News Recommendation\" Proceedings of the 58th Annual Meeting of the Association for Computational Linguistics. https://msnews.github.io/competition.html <br>\n",
    "\\[4\\] GloVe: Global Vectors for Word Representation. https://nlp.stanford.edu/projects/glove/"
   ]
  }
 ],
 "metadata": {
  "celltoolbar": "Tags",
  "interpreter": {
   "hash": "3a9a0c422ff9f08d62211b9648017c63b0a26d2c935edc37ebb8453675d13bb5"
  },
  "kernelspec": {
   "display_name": "Python (recommenders)",
   "language": "python",
   "name": "recommenders"
  },
  "language_info": {
   "codemirror_mode": {
    "name": "ipython",
    "version": 3
   },
   "file_extension": ".py",
   "mimetype": "text/x-python",
   "name": "python",
   "nbconvert_exporter": "python",
   "pygments_lexer": "ipython3",
   "version": "3.9.16"
  },
  "pycharm": {
   "stem_cell": {
    "cell_type": "raw",
    "metadata": {
     "collapsed": false
    },
    "source": []
   }
  }
 },
 "nbformat": 4,
 "nbformat_minor": 2
}
